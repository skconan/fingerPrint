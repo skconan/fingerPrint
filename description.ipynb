{
  "nbformat": 4,
  "nbformat_minor": 0,
  "metadata": {
    "colab": {
      "name": "description.ipynb",
      "version": "0.3.2",
      "provenance": []
    },
    "kernelspec": {
      "name": "python3",
      "display_name": "Python 3"
    }
  },
  "cells": [
    {
      "cell_type": "code",
      "metadata": {
        "id": "oaBEJDbrx5EN",
        "colab_type": "code",
        "colab": {}
      },
      "source": [
        "import cv2 as cv"
      ],
      "execution_count": 0,
      "outputs": []
    },
    {
      "cell_type": "code",
      "metadata": {
        "id": "D48KleHayWrJ",
        "colab_type": "code",
        "colab": {
          "base_uri": "https://localhost:8080/",
          "height": 35
        },
        "outputId": "d8c38187-5175-4ed9-9708-dd785a4f9885"
      },
      "source": [
        "print(cv.__version__)"
      ],
      "execution_count": 3,
      "outputs": [
        {
          "output_type": "stream",
          "text": [
            "3.4.3\n"
          ],
          "name": "stdout"
        }
      ]
    },
    {
      "cell_type": "code",
      "metadata": {
        "id": "OarUOYwqycEK",
        "colab_type": "code",
        "colab": {}
      },
      "source": [
        "import numpy as np\n",
        "import math\n",
        "from operator import itemgetter"
      ],
      "execution_count": 0,
      "outputs": []
    },
    {
      "cell_type": "code",
      "metadata": {
        "id": "cbPwsgS44mAY",
        "colab_type": "code",
        "colab": {}
      },
      "source": [
        "degree_range = 30\n",
        "radian_range = math.radians(degree_range)\n",
        "radius_range = 50"
      ],
      "execution_count": 0,
      "outputs": []
    },
    {
      "cell_type": "code",
      "metadata": {
        "id": "DfT9lKMK49c2",
        "colab_type": "code",
        "colab": {}
      },
      "source": [
        "def read(file_path):\n",
        "    f = open(file_path, mode=\"r\")\n",
        "    lines = f.readlines()\n",
        "    result = []\n",
        "    for line in lines[2:]:\n",
        "        line = line.replace(\"\\n\", \"\")\n",
        "        line = line.replace(\"\\r\", \"\")\n",
        "        data = line.split(\" \")\n",
        "        data_dict = {}\n",
        "        data_dict['x'] = int(data[0])\n",
        "        data_dict['y'] = int(data[1])\n",
        "        data_dict['rad'] = float(data[2])\n",
        "        result.append(data_dict)\n",
        "        # print(result[-1])\n",
        "    return result\n"
      ],
      "execution_count": 0,
      "outputs": []
    },
    {
      "cell_type": "code",
      "metadata": {
        "id": "wb8piGH14pTC",
        "colab_type": "code",
        "colab": {}
      },
      "source": [
        "def draw_mnt(img, mnt_point):\n",
        "    font = cv.FONT_HERSHEY_SIMPLEX\n",
        "    for i, p in enumerate(mnt_point):\n",
        "        center = (p['x'], p['y'])\n",
        "        radian = p['rad']\n",
        "\n",
        "        r = 6\n",
        "        color = [255, 0, 0]\n",
        "        border = 1\n",
        "\n",
        "        x_new = p['x'] + int(r*2 * math.cos(radian))\n",
        "        y_new = p['y'] + int(r*2 * math.sin(radian))\n",
        "\n",
        "        cv.circle(img, center, r, color, border)\n",
        "        cv.line(img, center, (x_new, y_new), color, border)\n",
        "        cv.putText(img, str(i), center, font, 0.25, (0, 0, 0), 1, cv.LINE_AA)\n",
        "    return img\n",
        "\n",
        "\n"
      ],
      "execution_count": 0,
      "outputs": []
    },
    {
      "cell_type": "code",
      "metadata": {
        "id": "qWZYsJlg4zoB",
        "colab_type": "code",
        "colab": {}
      },
      "source": [
        "def group_minutiae(mnt_point, mnt_img):\n",
        "    \"\"\"\n",
        "            Group mintiae by radius and radian\n",
        "        \"\"\"\n",
        "    \n",
        "\n",
        "    r = 6\n",
        "    color = [255, 0, 0]\n",
        "    border = -1\n",
        "\n",
        "    length_mnt = len(mnt_point)\n",
        "    mnt_group = []\n",
        "\n",
        "    for i in range(length_mnt):\n",
        "        mnt = {}\n",
        "        mnt['index'] = i\n",
        "        mnt['child'] = []\n",
        "\n",
        "        xi = mnt_point[i]['x']\n",
        "        yi = mnt_point[i]['y']\n",
        "        radi = mnt_point[i]['rad']\n",
        "        pi = [xi, yi]\n",
        "\n",
        "        result = mnt_img.copy()\n",
        "\n",
        "        # cv.circle(result, tuple(pi), r, (255, 255, 0), border)\n",
        "        # cv.circle(result, tuple(pi), radius_range, (255, 255, 0), 1)\n",
        "        # cv.waitKey(-1)\n",
        "\n",
        "        for j in range(length_mnt):\n",
        "            if i == j:\n",
        "                continue\n",
        "\n",
        "            xj = mnt_point[j]['x']\n",
        "            yj = mnt_point[j]['y']\n",
        "            radj = mnt_point[j]['rad']\n",
        "\n",
        "            pj = [xj, yj]\n",
        "\n",
        "            # print(i, j, distance(pi, pj), distance([radi], [radj], \"L1\"))\n",
        "\n",
        "            if distance(pi, pj) <= radius_range and distance([radi], [radj], \"L1\") <= radian_range:\n",
        "                mnt['child'].append(j)\n",
        "                cv.circle(result, tuple(pj), r, color, border)\n",
        "\n",
        "            # cv.imshow(\"Group\"+str(i), result)\n",
        "\n",
        "        mnt['density'] = len(mnt['child'])\n",
        "        mnt_group.append(mnt)\n",
        "\n",
        "        # cv.imshow(\"Group\"+str(i), result)\n",
        "        # cv.waitKey(-1)\n",
        "        # cv.destroyWindow(\"Group\"+str(i))\n",
        "# def find_density_of_minutiae(radius):\n",
        "    mnt_group = sorted(mnt_group, key=itemgetter('density'),reverse=True)\n",
        "    return mnt_group\n",
        "\n",
        "\n"
      ],
      "execution_count": 0,
      "outputs": []
    },
    {
      "cell_type": "code",
      "metadata": {
        "id": "U6MT57pS42NL",
        "colab_type": "code",
        "colab": {}
      },
      "source": [
        "def main():\n",
        "    img_dir = r\"C:\\Users\\skconan\\Desktop\\FingerPrint\\pysource\\images\"\n",
        "    mnt_dir = r\"C:\\Users\\skconan\\Desktop\\FingerPrint\\pysource\\FingerNet\\Minutiae\"\n",
        "    img_path_list = get_file_path(img_dir)\n",
        "\n",
        "    for path in img_path_list:\n",
        "        name = get_file_name(path)\n",
        "        mnt_path = mnt_dir + \"\\\\\" + name + \".mnt\"\n",
        "        mnt_point = read_mnt.read(mnt_path)\n",
        "        img = cv.imread(path, 1)\n",
        "        img_with_mnt = draw_mnt(img, mnt_point)\n",
        "        mnt_group = group_minutiae(mnt_point, img_with_mnt)\n",
        "\n",
        "        for mnt in mnt_group[:10]:\n",
        "            result = img_with_mnt.copy()\n",
        "            i = mnt['index']\n",
        "            child = mnt['child']\n",
        "            mnt = mnt_point[i]\n",
        "            r = 6\n",
        "            p = [mnt['x'],mnt['y']]\n",
        "            cv.circle(result, tuple(p), r, (0,0, 255), -1)\n",
        "            cv.circle(result, tuple(p), radius_range, (0,0, 255), 1)\n",
        "            \n",
        "            for i in child:\n",
        "                mnt = mnt_point[i]\n",
        "                p = [mnt['x'],mnt['y']]\n",
        "                cv.circle(result, tuple(p), r, (255, 255, 0), -1)\n",
        "\n",
        "            # cv.imshow(name, result)\n",
        "            # cv.waitKey(-1)\n",
        "            # implot(result)\n",
        "\n",
        "        # cv.imwrite(\"./\"+name+\".jpg\", img_with_mnt)\n",
        "        # cv.waitKey(-1)\n"
      ],
      "execution_count": 0,
      "outputs": []
    },
    {
      "cell_type": "code",
      "metadata": {
        "id": "TjetFJpX45Va",
        "colab_type": "code",
        "colab": {}
      },
      "source": [
        "main()"
      ],
      "execution_count": 0,
      "outputs": []
    }
  ]
}